{
  "cells": [
    {
      "metadata": {
        "trusted": true
      },
      "cell_type": "code",
      "source": "import numpy as np\nfrom sklearn.linear_model import Ridge\nX=[(1,6,3),(4,5,6),(7,8,9),(3,9,3)]\ny=[8,3,9,6]\nyd= np.linalg.lstsq(X, y, rcond=-1)[0]\nprint(\"Coef Before Fitting:\\t\", yd)\nprint(\"Output Matrix:\\t\\t\", np.dot(X,yd))\nxd = Ridge(alpha=1, fit_intercept=False)\np=[1,1,1,1]\nxd.fit(X, y, sample_weight=p)\nprint(\"Coef After Fitting:\\t\", xd.coef_)\nprint(\"Output Matrix:\\t\\t\", np.dot(X,xd.coef_))\nprint(yd-xd.coef_)",
      "execution_count": 38,
      "outputs": [
        {
          "output_type": "stream",
          "text": "Coef Before Fitting:\t [-1.40441176  0.80882353  1.19362745]\nOutput Matrix:\t\t [7.02941176 5.58823529 7.38235294 6.64705882]\nCoef After Fitting:\t [-0.81931823  0.79459502  0.77431644]\nOutput Matrix:\t\t [6.27120124 5.34160086 7.59038057 7.01634986]\n[-0.58509354  0.01422851  0.41931101]\n",
          "name": "stdout"
        }
      ]
    },
    {
      "metadata": {
        "trusted": true
      },
      "cell_type": "code",
      "source": "import numpy as np\nfrom sklearn.linear_model import Lasso\nX=[(1,6,3),(4,5,6),(7,8,9),(3,9,3)]\ny=[8,3,9,6]\nyd= np.linalg.lstsq(X, y, rcond=-1)[0]\nprint(\"Coef Before Fitting:\\t\", yd)\nprint(\"Output Matrix:\\t\\t\", np.dot(X,yd))\nxd = Lasso(fit_intercept=False)\nxd.fit(X, y)\nprint(\"Coef After Fitting:\\t\", xd.coef_)\nprint(\"Output Matrix:\\t\\t\", np.dot(X,xd.coef_))\nprint(yd-xd.coef_)",
      "execution_count": null,
      "outputs": []
    },
    {
      "metadata": {
        "trusted": true
      },
      "cell_type": "code",
      "source": "import numpy as np\nfrom sklearn.linear_model import LinearRegression\nX=[(1,6,3),(4,5,6),(7,8,9),(3,9,3)]\ny=[8,3,9,6]\nyd= np.linalg.lstsq(X, y, rcond=-1)[0]\nprint(\"Coef Before Fitting:\\t\", yd)\nprint(\"Output Matrix:\\t\\t\", np.dot(X,yd))\nxd = LinearRegression(fit_intercept=False)\nxd.fit(X, y)\nprint(\"Coef After Fitting:\\t\", xd.coef_)\nprint(\"Output Matrix:\\t\\t\", np.dot(X,xd.coef_))",
      "execution_count": null,
      "outputs": []
    },
    {
      "metadata": {
        "trusted": true
      },
      "cell_type": "code",
      "source": "",
      "execution_count": null,
      "outputs": []
    }
  ],
  "metadata": {
    "kernelspec": {
      "name": "python36",
      "display_name": "Python 3.6",
      "language": "python"
    },
    "language_info": {
      "mimetype": "text/x-python",
      "nbconvert_exporter": "python",
      "name": "python",
      "pygments_lexer": "ipython3",
      "version": "3.6.6",
      "file_extension": ".py",
      "codemirror_mode": {
        "version": 3,
        "name": "ipython"
      }
    }
  },
  "nbformat": 4,
  "nbformat_minor": 2
}